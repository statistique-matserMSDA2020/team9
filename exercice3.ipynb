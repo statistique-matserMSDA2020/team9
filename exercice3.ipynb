{
 "cells": [
  {
   "cell_type": "code",
   "execution_count": 2,
   "metadata": {},
   "outputs": [],
   "source": [
    "import pandas as pd\n",
    "from pandas.api.types import CategoricalDtype\n",
    "import numpy as np\n",
    "import matplotlib\n",
    "import seaborn\n",
    "import matplotlib.pyplot as plt "
   ]
  },
  {
   "cell_type": "code",
   "execution_count": 3,
   "metadata": {},
   "outputs": [],
   "source": [
    "'''Question 1'''\n",
    "data=pd.read_csv(\"smp.csv\",sep=';', header=0, encoding ='utf-8')"
   ]
  },
  {
   "cell_type": "code",
   "execution_count": 3,
   "metadata": {},
   "outputs": [
    {
     "name": "stdout",
     "output_type": "stream",
     "text": [
      "age              float64\n",
      "prof            category\n",
      "duree           category\n",
      "discip          category\n",
      "n.enfant         float64\n",
      "n.fratrie          int64\n",
      "ecole           category\n",
      "separation      category\n",
      "juge.enfant     category\n",
      "place           category\n",
      "abus            category\n",
      "grav.cons       category\n",
      "dep.cons        category\n",
      "ago.cons        category\n",
      "ptsd.cons       category\n",
      "alc.cons        category\n",
      "subst.cons      category\n",
      "scz.cons        category\n",
      "char            category\n",
      "rs              category\n",
      "ed              category\n",
      "dr              category\n",
      "suicide.s        float64\n",
      "suicide.hr      category\n",
      "suicide.past    category\n",
      "dur.interv       float64\n",
      "dtype: object\n"
     ]
    }
   ],
   "source": [
    "'''Question 2\n",
    "changement des variables en type category'''\n",
    "\n",
    "prof_type = CategoricalDtype(categories=['agriculteur','autre', 'prof.intermediaire','ouvrier','sans emploi','artisan','employe','cadre'], ordered=False)\n",
    "data['prof'] = data['prof'].astype(prof_type)\n",
    "duree_type = CategoricalDtype(categories=[1, 2, 3, 4, 5], ordered=True)\n",
    "data['duree'] = data['duree'].astype(duree_type)\n",
    "discip_type = CategoricalDtype(categories=[0, 1], ordered=False)\n",
    "data['discip'] = data['discip'].astype(discip_type)\n",
    "ecole_type = CategoricalDtype(categories=[1, 2, 3, 4, 5], ordered=True)\n",
    "data['ecole'] = data['ecole'].astype(ecole_type)\n",
    "separation_type = CategoricalDtype(categories=[0, 1], ordered=False)\n",
    "data['separation'] = data['separation'].astype(separation_type)\n",
    "jugeEnfant_type = CategoricalDtype(categories=[0, 1], ordered=False)\n",
    "data['juge.enfant'] = data['juge.enfant'].astype(jugeEnfant_type)\n",
    "place_type = CategoricalDtype(categories=[0, 1], ordered=False)\n",
    "data['place'] = data['place'].astype(place_type)\n",
    "abus_type = CategoricalDtype(categories=[0, 1], ordered=False)\n",
    "data['abus'] = data['abus'].astype(abus_type)\n",
    "graveCons_type = CategoricalDtype(categories=[1, 2, 3, 4, 5, 6, 7], ordered=True)\n",
    "data['grav.cons'] = data['grav.cons'].astype(graveCons_type)\n",
    "depCons_type = CategoricalDtype(categories=[0, 1], ordered=False)\n",
    "data['dep.cons'] = data['dep.cons'].astype(depCons_type)\n",
    "agoCons_type = CategoricalDtype(categories=[0, 1], ordered=False)\n",
    "data['ago.cons'] = data['ago.cons'].astype(agoCons_type)\n",
    "ptsdCons_type = CategoricalDtype(categories=[0, 1], ordered=False)\n",
    "data['ptsd.cons'] = data['ptsd.cons'].astype(ptsdCons_type)\n",
    "alcCons_type = CategoricalDtype(categories=[0, 1], ordered=False)\n",
    "data['alc.cons'] = data['alc.cons'].astype(alcCons_type)\n",
    "substCons_type = CategoricalDtype(categories=[0, 1], ordered=False)\n",
    "data['subst.cons'] = data['subst.cons'].astype(substCons_type)\n",
    "sczCons_type = CategoricalDtype(categories=[0, 1], ordered=False)\n",
    "data['scz.cons'] = data['scz.cons'].astype(sczCons_type)\n",
    "char_type = CategoricalDtype(categories=[1, 2, 3, 4], ordered=True)\n",
    "data['char'] = data['char'].astype(char_type)\n",
    "rs_type = CategoricalDtype(categories=[1, 2, 3], ordered=True)\n",
    "data['rs'] = data['rs'].astype(rs_type)\n",
    "ed_type = CategoricalDtype(categories=[1, 2, 3], ordered=True)\n",
    "data['ed'] = data['ed'].astype(ed_type)\n",
    "dr_type = CategoricalDtype(categories=[1, 2, 3], ordered=True)\n",
    "data['dr'] = data['dr'].astype(dr_type)\n",
    "suicideHr_type = CategoricalDtype(categories=[1, 2, 3], ordered=True)\n",
    "data['suicide.hr'] = data['suicide.hr'].astype(suicideHr_type)\n",
    "suicidePast_type = CategoricalDtype(categories=[0, 1], ordered=False)\n",
    "data['suicide.past'] = data['suicide.past'].astype(suicidePast_type)\n",
    "\n",
    "print(data.dtypes)"
   ]
  },
  {
   "cell_type": "code",
   "execution_count": 4,
   "metadata": {},
   "outputs": [
    {
     "name": "stdout",
     "output_type": "stream",
     "text": [
      "les trois premiers quantiles de la variable age\n",
      " 0.25    28.0\n",
      "0.50    37.0\n",
      "0.75    48.0\n",
      "Name: age, dtype: float64\n",
      "la moyenne des ages est de: 38.89962358845671, sa variance est de: 176.38438428024685, son ecartype: 13.280978287771081\n",
      "la moyenne du nombres d'enfant est de: 1.7554980595084089, sa variance est de: 3.3637164938433877, son ecartype: 1.8340437546153003\n",
      "la moyenne des tailles des fratrie est de: 4.286608260325407, sa variance est de: 11.84381793030759, son ecartype: 3.4414848438294174\n",
      "la moyenne de la duree des interview est de: 61.89185580774366, sa variance est de: 386.8933694123357, son ecartype: 19.669605217500827\n"
     ]
    }
   ],
   "source": [
    "'''Question3:\n",
    "calcule des moyennes, variances et ecartypes des varibles:\n",
    "age,n.enfant, n.fratrie,dur.interv'''\n",
    "\n",
    "moyenne_age=data['age'].mean()\n",
    "variance_age=data['age'].var()\n",
    "ecartype_age=data['age'].std()\n",
    "quantiles=data['age'].quantile([0.25, 0.5, 0.75])\n",
    "print(\"les trois premiers quantiles de la variable age\\n\", quantiles)\n",
    "   \n",
    "print(\"la moyenne des ages est de: {}, sa variance est de: {}, son ecartype: {}\".format(moyenne_age,variance_age, ecartype_age))\n",
    "\n",
    "moyenne_nenfant=data['n.enfant'].mean()\n",
    "variance_nenfant=data['n.enfant'].var()\n",
    "ecartype_nenfant=data['n.enfant'].std()\n",
    "print(\"la moyenne du nombres d'enfant est de: {}, sa variance est de: {}, son ecartype: {}\".format(moyenne_nenfant,variance_nenfant, ecartype_nenfant))\n",
    "\n",
    "moyenne_nfratrie=data['n.fratrie'].mean()\n",
    "variance_nfratrie=data['n.fratrie'].var()\n",
    "ecartype_nfratrie=data['n.fratrie'].std()\n",
    "print(\"la moyenne des tailles des fratrie est de: {}, sa variance est de: {}, son ecartype: {}\".format(moyenne_nfratrie,variance_nfratrie, ecartype_nfratrie))\n",
    "\n",
    "moyenne_durinterv=data['dur.interv'].mean()\n",
    "variance_durinterv=data['dur.interv'].var()\n",
    "ecartype_durinterv=data['dur.interv'].std()\n",
    "print(\"la moyenne de la duree des interview est de: {}, sa variance est de: {}, son ecartype: {}\".format(moyenne_durinterv,variance_durinterv, ecartype_durinterv))"
   ]
  },
  {
   "cell_type": "code",
   "execution_count": 5,
   "metadata": {},
   "outputs": [
    {
     "data": {
      "image/png": "[encoded data removed]",
      "text/plain": [
       "<Figure size 432x288 with 1 Axes>"
      ]
     },
     "metadata": {
      "needs_background": "light"
     },
     "output_type": "display_data"
    }
   ],
   "source": [
    "'''Question 4:\n",
    "boxplot de la variable age'''\n",
    "data.boxplot(column=\"age\")\n",
    "plt.show()"
   ]
  },
  {
   "cell_type": "code",
   "execution_count": 7,
   "metadata": {},
   "outputs": [
    {
     "name": "stdout",
     "output_type": "stream",
     "text": [
      "lez agriculteurs qui ont plus de deux enfants sont:\n",
      "       age         prof duree discip  n.enfant  n.fratrie ecole separation  \\\n",
      "14   64.0  agriculteur   NaN      0       3.0          2     1          0   \n",
      "311  42.0  agriculteur     4      0       3.0          6     1          0   \n",
      "390  36.0  agriculteur     4      1       3.0          4     3          1   \n",
      "441  79.0  agriculteur     5      0       5.0          6     2          0   \n",
      "\n",
      "    juge.enfant place  ... subst.cons scz.cons char   rs ed dr suicide.s  \\\n",
      "14            0     0  ...          0        0    1    1  1  3       0.0   \n",
      "311           0     0  ...          0        0    2    1  3  2       3.0   \n",
      "390           1     1  ...          1        0    1  NaN  3  1       0.0   \n",
      "441           0     0  ...          0        0    1    2  1  1       0.0   \n",
      "\n",
      "    suicide.hr suicide.past dur.interv  \n",
      "14         NaN            0       80.0  \n",
      "311          1            0        NaN  \n",
      "390        NaN            0        NaN  \n",
      "441        NaN            0       85.0  \n",
      "\n",
      "[4 rows x 26 columns]\n"
     ]
    }
   ],
   "source": [
    "'''Question 5:\n",
    "recuperation des donnees ds agriculteurs qui ont plus de deux enfants'''\n",
    "agri=data[(data['prof']  == \"agriculteur\") & (data['n.enfant'] > 2)]\n",
    "print(\"lez agriculteurs qui ont plus de deux enfants sont:\\n\", agri)"
   ]
  },
  {
   "cell_type": "code",
   "execution_count": 8,
   "metadata": {},
   "outputs": [
    {
     "name": "stdout",
     "output_type": "stream",
     "text": [
      "les frequences de la modalite prof sont: \n",
      " ouvrier               227\n",
      "sans emploi           222\n",
      "employe               135\n",
      "artisan                90\n",
      "prof.intermediaire     58\n",
      "autre                  31\n",
      "cadre                  24\n",
      "agriculteur             6\n",
      "Name: prof, dtype: int64\n"
     ]
    }
   ],
   "source": [
    "'''Question 6:\n",
    "Calculer les fréquences des modalités de la variable prof'''\n",
    "freq=data['prof'].value_counts()\n",
    "print(\"les frequences de la modalite prof sont: \\n\",freq)"
   ]
  },
  {
   "cell_type": "code",
   "execution_count": 9,
   "metadata": {},
   "outputs": [
    {
     "data": {
      "image/png": "[encoded data removed]",
      "text/plain": [
       "<Figure size 432x288 with 1 Axes>"
      ]
     },
     "metadata": {},
     "output_type": "display_data"
    }
   ],
   "source": [
    "'''Question7:\n",
    "diagramme circulaire de la variable profession'''\n",
    "freq.plot.pie()\n",
    "plt.show()"
   ]
  },
  {
   "cell_type": "code",
   "execution_count": 10,
   "metadata": {},
   "outputs": [
    {
     "name": "stdout",
     "output_type": "stream",
     "text": [
      "                          age\n",
      "prof                         \n",
      "agriculteur         48.833333\n",
      "autre               34.935484\n",
      "prof.intermediaire  43.258621\n",
      "ouvrier             37.396476\n",
      "sans emploi         35.896396\n",
      "artisan             45.111111\n",
      "employe             38.711111\n",
      "cadre               50.083333\n"
     ]
    }
   ],
   "source": [
    "'''Question 8:\n",
    "moyenne des ages par profession'''\n",
    "print(data.groupby('prof').mean()[['age']])"
   ]
  },
  {
   "cell_type": "code",
   "execution_count": 11,
   "metadata": {},
   "outputs": [
    {
     "name": "stdout",
     "output_type": "stream",
     "text": [
      "les frequences de la modalite prof avec nan sont: \n",
      " ouvrier               227\n",
      "sans emploi           222\n",
      "employe               135\n",
      "artisan                90\n",
      "prof.intermediaire     58\n",
      "autre                  31\n",
      "cadre                  24\n",
      "NaN                     6\n",
      "agriculteur             6\n",
      "Name: prof, dtype: int64\n"
     ]
    }
   ],
   "source": [
    "'''Question 9:\n",
    "table des effectifs pour les variables prof incluant les ”NaN”.'''\n",
    "freq_withna=data['prof'].value_counts(dropna=False)\n",
    "print(\"les frequences de la modalite prof avec nan sont: \\n\",freq_withna)"
   ]
  },
  {
   "cell_type": "code",
   "execution_count": 12,
   "metadata": {},
   "outputs": [
    {
     "data": {
      "text/plain": [
       "age               2\n",
       "prof              6\n",
       "duree           223\n",
       "discip            6\n",
       "n.enfant         26\n",
       "n.fratrie         0\n",
       "ecole             5\n",
       "separation       11\n",
       "juge.enfant       5\n",
       "place             7\n",
       "abus              7\n",
       "grav.cons         4\n",
       "dep.cons          0\n",
       "ago.cons          0\n",
       "ptsd.cons         0\n",
       "alc.cons          0\n",
       "subst.cons        0\n",
       "scz.cons          0\n",
       "char             96\n",
       "rs              103\n",
       "ed              107\n",
       "dr              111\n",
       "suicide.s        41\n",
       "suicide.hr      646\n",
       "suicide.past     14\n",
       "dur.interv       50\n",
       "dtype: int64"
      ]
     },
     "execution_count": 12,
     "metadata": {},
     "output_type": "execute_result"
    }
   ],
   "source": [
    "'''Question 10:\n",
    "le nombre de nan pour chaque variable'''\n",
    "data.isna().sum()"
   ]
  },
  {
   "cell_type": "code",
   "execution_count": 14,
   "metadata": {},
   "outputs": [
    {
     "name": "stdout",
     "output_type": "stream",
     "text": [
      "      age                prof duree discip  n.enfant  n.fratrie ecole  \\\n",
      "8    42.0             ouvrier     4      1       1.0         12     1   \n",
      "37   41.0             ouvrier     5      1       3.0          2     1   \n",
      "43   35.0             employe     3      0       1.0          8     1   \n",
      "49   40.0         sans emploi     3      0       2.0          4     2   \n",
      "66   43.0             artisan     4      0       1.0          5     4   \n",
      "105  35.0         sans emploi     5      0       0.0          5     2   \n",
      "107  31.0             ouvrier     5      0       1.0          8     2   \n",
      "116  32.0         sans emploi     5      0       1.0         11     3   \n",
      "120  31.0             ouvrier     5      1       3.0          1     1   \n",
      "127  53.0         sans emploi     5      0       4.0          3     2   \n",
      "129  53.0             ouvrier     5      0       2.0          3     1   \n",
      "134  33.0         sans emploi     5      0       1.0          4     1   \n",
      "147  40.0             ouvrier     5      0       0.0          5     1   \n",
      "180  49.0             ouvrier     4      0       3.0          9     2   \n",
      "197  45.0             ouvrier     4      0       0.0          1     2   \n",
      "220  57.0         sans emploi     5      0       2.0          2     2   \n",
      "241  41.0         sans emploi     5      1       1.0          5     1   \n",
      "314  36.0             ouvrier     4      1       1.0         12     1   \n",
      "335  30.0         sans emploi     4      1       0.0          4     1   \n",
      "339  41.0             ouvrier     4      1       3.0          9     2   \n",
      "354  33.0             ouvrier     4      0       0.0          1     1   \n",
      "355  31.0         sans emploi     3      1       1.0          1     2   \n",
      "360  29.0         sans emploi     5      1       1.0          4     1   \n",
      "373  27.0             ouvrier     4      1       1.0          3     2   \n",
      "379  54.0         sans emploi     4      0       5.0          1     1   \n",
      "380  39.0             ouvrier     4      1       3.0          6     2   \n",
      "382  36.0         sans emploi     4      0       2.0          3     2   \n",
      "383  37.0         agriculteur     5      1       2.0          2     2   \n",
      "385  28.0         sans emploi     4      1       0.0          0     1   \n",
      "389  53.0             ouvrier     5      0       5.0          7     2   \n",
      "..    ...                 ...   ...    ...       ...        ...   ...   \n",
      "545  29.0             employe     4      0       3.0          8     2   \n",
      "568  45.0  prof.intermediaire     4      0       1.0          9     2   \n",
      "571  23.0         sans emploi     3      1       1.0          1     2   \n",
      "573  35.0             employe     3      0       0.0          6     2   \n",
      "581  40.0             artisan     4      0       1.0          3     1   \n",
      "584  31.0             ouvrier     4      0       1.0          2     1   \n",
      "595  32.0             ouvrier     5      1       0.0         18     1   \n",
      "610  38.0             employe     4      0       2.0         10     1   \n",
      "615  33.0         sans emploi     2      0       1.0          4     1   \n",
      "627  35.0         sans emploi     3      0       0.0          5     1   \n",
      "636  27.0         sans emploi     4      1       1.0          3     2   \n",
      "644  59.0         sans emploi     4      0       6.0          3     4   \n",
      "700  32.0             ouvrier     5      0       3.0          4     1   \n",
      "716  43.0         sans emploi     5      0       4.0          6     1   \n",
      "721  41.0             ouvrier     5      0       2.0          4     1   \n",
      "749  74.0         sans emploi     4      0       4.0          3     2   \n",
      "752  57.0         sans emploi     5      0       3.0          0     2   \n",
      "754  52.0             artisan     5      0       4.0          0     4   \n",
      "756  29.0             ouvrier     4      1       2.0          6     2   \n",
      "757  37.0             employe     3      1       3.0         11     2   \n",
      "764  30.0         sans emploi     4      0       0.0          9     1   \n",
      "765  37.0         sans emploi     4      1       0.0          1     4   \n",
      "767  40.0             employe     4      0       5.0          3     2   \n",
      "768  54.0         sans emploi     4      0       5.0          4     2   \n",
      "770  48.0               cadre     4      1       2.0          4     3   \n",
      "774  48.0             artisan     4      1       5.0          0     2   \n",
      "779  34.0         sans emploi     5      0       3.0          9     4   \n",
      "781  38.0         sans emploi     4      1       0.0         11     2   \n",
      "783  56.0         sans emploi     5      1       2.0          7     2   \n",
      "792  50.0             ouvrier     5      0       5.0         10     2   \n",
      "\n",
      "    separation juge.enfant place  ... subst.cons scz.cons char rs ed dr  \\\n",
      "8            1           1     0  ...          1        0    4  3  3  1   \n",
      "37           0           0     0  ...          0        0    2  2  2  2   \n",
      "43           1           1     0  ...          1        0    1  2  1  2   \n",
      "49           1           0     0  ...          1        0    2  3  1  2   \n",
      "66           1           0     0  ...          1        0    1  1  1  3   \n",
      "105          1           0     1  ...          1        0    1  1  1  1   \n",
      "107          1           1     1  ...          0        0    3  3  1  1   \n",
      "116          1           0     0  ...          0        0    2  3  2  2   \n",
      "120          0           0     0  ...          0        0    1  3  1  1   \n",
      "127          1           1     1  ...          0        1    1  1  2  2   \n",
      "129          0           1     0  ...          0        1    3  3  1  1   \n",
      "134          0           0     0  ...          0        1    3  3  3  1   \n",
      "147          0           0     0  ...          1        0    2  3  2  1   \n",
      "180          0           1     1  ...          0        0    4  3  3  1   \n",
      "197          0           0     0  ...          0        0    1  1  1  3   \n",
      "220          0           0     0  ...          0        0    2  1  3  3   \n",
      "241          0           1     1  ...          1        1    2  3  3  3   \n",
      "314          1           1     1  ...          1        0    4  3  1  1   \n",
      "335          1           1     0  ...          1        0    1  2  2  1   \n",
      "339          1           0     0  ...          0        0    3  1  1  3   \n",
      "354          1           0     1  ...          0        0    1  3  2  1   \n",
      "355          1           1     1  ...          1        0    4  3  1  1   \n",
      "360          1           1     0  ...          1        0    4  3  1  1   \n",
      "373          1           0     0  ...          1        0    3  3  3  3   \n",
      "379          0           0     0  ...          0        0    2  1  3  1   \n",
      "380          0           1     0  ...          0        0    1  3  3  3   \n",
      "382          1           1     1  ...          1        0    4  3  3  3   \n",
      "383          1           1     1  ...          1        0    2  1  3  3   \n",
      "385          1           0     0  ...          0        0    4  3  3  3   \n",
      "389          0           0     0  ...          0        0    1  3  3  3   \n",
      "..         ...         ...   ...  ...        ...      ...  ... .. .. ..   \n",
      "545          0           1     1  ...          0        0    1  2  3  2   \n",
      "568          0           0     0  ...          0        0    2  1  3  3   \n",
      "571          0           0     0  ...          1        1    4  3  3  3   \n",
      "573          1           0     0  ...          0        0    3  3  3  3   \n",
      "581          0           0     0  ...          0        0    3  3  3  3   \n",
      "584          0           0     0  ...          0        0    2  1  3  3   \n",
      "595          1           1     0  ...          1        0    1  1  3  3   \n",
      "610          0           1     1  ...          1        0    3  2  1  2   \n",
      "615          0           1     0  ...          1        0    1  3  3  3   \n",
      "627          0           0     0  ...          1        0    4  3  3  3   \n",
      "636          1           0     0  ...          1        1    3  3  2  2   \n",
      "644          0           0     0  ...          0        0    1  2  1  3   \n",
      "700          0           0     0  ...          0        0    1  1  2  1   \n",
      "716          0           0     0  ...          0        0    2  3  2  2   \n",
      "721          0           0     0  ...          0        1    1  2  2  1   \n",
      "749          0           0     0  ...          0        0    1  1  3  3   \n",
      "752          1           0     0  ...          0        0    3  3  1  3   \n",
      "754          0           0     0  ...          0        0    1  3  3  1   \n",
      "756          0           1     0  ...          1        0    2  3  1  3   \n",
      "757          1           1     0  ...          1        0    1  1  1  1   \n",
      "764          1           1     1  ...          1        0    3  3  3  3   \n",
      "765          1           0     0  ...          1        0    3  1  3  3   \n",
      "767          0           0     0  ...          0        0    3  1  3  3   \n",
      "768          0           0     0  ...          0        0    3  1  3  3   \n",
      "770          1           1     1  ...          0        0    2  1  3  3   \n",
      "774          1           0     0  ...          0        0    1  3  3  3   \n",
      "779          0           0     0  ...          0        0    3  1  1  1   \n",
      "781          0           1     1  ...          1        0    2  1  1  1   \n",
      "783          1           0     0  ...          0        0    1  3  3  3   \n",
      "792          0           1     1  ...          0        0    1  1  2  1   \n",
      "\n",
      "    suicide.s suicide.hr suicide.past dur.interv  \n",
      "8         4.0          1            1       78.0  \n",
      "37        3.0          1            1       70.0  \n",
      "43        1.0          1            1       85.0  \n",
      "49        3.0          1            0       60.0  \n",
      "66        2.0          1            1       45.0  \n",
      "105       4.0          1            1       45.0  \n",
      "107       1.0          1            1       55.0  \n",
      "116       3.0          1            1       55.0  \n",
      "120       3.0          1            0       40.0  \n",
      "127       1.0          1            1       55.0  \n",
      "129       1.0          1            1       85.0  \n",
      "134       3.0          1            1       40.0  \n",
      "147       1.0          1            0       50.0  \n",
      "180       4.0          1            1       60.0  \n",
      "197       3.0          1            0       50.0  \n",
      "220       4.0          1            1       50.0  \n",
      "241       5.0          1            1       90.0  \n",
      "314       4.0          1            1       60.0  \n",
      "335       3.0          1            1       30.0  \n",
      "339       3.0          1            0       75.0  \n",
      "354       4.0          1            0       60.0  \n",
      "355       5.0          1            1       60.0  \n",
      "360       3.0          1            1       60.0  \n",
      "373       5.0          1            1       65.0  \n",
      "379       5.0          1            1       70.0  \n",
      "380       3.0          1            0       75.0  \n",
      "382       3.0          1            1       75.0  \n",
      "383       5.0          1            1       75.0  \n",
      "385       4.0          1            1       90.0  \n",
      "389       2.0          1            1       50.0  \n",
      "..        ...        ...          ...        ...  \n",
      "545       4.0          1            1       65.0  \n",
      "568       5.0          1            1       68.0  \n",
      "571       4.0          1            1       70.0  \n",
      "573       4.0          1            1       60.0  \n",
      "581       3.0          1            1       50.0  \n",
      "584       4.0          1            0       90.0  \n",
      "595       4.0          1            0       80.0  \n",
      "610       5.0          1            1       15.0  \n",
      "615       3.0          1            0       90.0  \n",
      "627       5.0          1            1       60.0  \n",
      "636       5.0          1            1       85.0  \n",
      "644       4.0          1            1       85.0  \n",
      "700       3.0          1            1      100.0  \n",
      "716       3.0          1            1       75.0  \n",
      "721       2.0          1            1       85.0  \n",
      "749       4.0          1            1      105.0  \n",
      "752       3.0          1            0       60.0  \n",
      "754       3.0          1            0      105.0  \n",
      "756       2.0          1            1       90.0  \n",
      "757       4.0          1            1       60.0  \n",
      "764       4.0          1            1      105.0  \n",
      "765       5.0          1            1       65.0  \n",
      "767       2.0          1            1       60.0  \n",
      "768       5.0          1            1       90.0  \n",
      "770       4.0          1            1       60.0  \n",
      "774       3.0          1            1       60.0  \n",
      "779       3.0          1            0       75.0  \n",
      "781       4.0          1            1       90.0  \n",
      "783       4.0          1            0       90.0  \n",
      "792       4.0          1            1       75.0  \n",
      "\n",
      "[78 rows x 26 columns]\n"
     ]
    }
   ],
   "source": [
    "'''Question 11:\n",
    "supprimer toutes les lignes contenant nan'''\n",
    "data_withoutna=data.dropna()\n",
    "print(data_withoutna)"
   ]
  },
  {
   "cell_type": "code",
   "execution_count": 15,
   "metadata": {},
   "outputs": [
    {
     "data": {
      "image/png": "[encoded data removed]",
      "text/plain": [
       "<Figure size 432x288 with 1 Axes>"
      ]
     },
     "metadata": {
      "needs_background": "light"
     },
     "output_type": "display_data"
    }
   ],
   "source": [
    "'''Question 12:\n",
    "histograme et la densite de la variable age sur la meme figure'''\n",
    "\n",
    "seaborn.distplot(data_withoutna.age)\n",
    "plt.show()"
   ]
  },
  {
   "cell_type": "code",
   "execution_count": null,
   "metadata": {},
   "outputs": [],
   "source": []
  }
 ],
 "metadata": {
  "kernelspec": {
   "display_name": "Python 3",
   "language": "python",
   "name": "python3"
  },
  "language_info": {
   "codemirror_mode": {
    "name": "ipython",
    "version": 3
   },
   "file_extension": ".py",
   "mimetype": "text/x-python",
   "name": "python",
   "nbconvert_exporter": "python",
   "pygments_lexer": "ipython3",
   "version": "3.7.3"
  }
 },
 "nbformat": 4,
 "nbformat_minor": 2
}
